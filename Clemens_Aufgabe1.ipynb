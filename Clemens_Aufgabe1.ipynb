{
 "cells": [
  {
   "cell_type": "code",
   "execution_count": 1,
   "id": "db217688-29e7-4d35-9dbd-710c9ef095aa",
   "metadata": {},
   "outputs": [],
   "source": [
    "import pandas as pd\n",
    "import matplotlib.pyplot as plt\n",
    "import statsmodels.api as sm\n",
    "import numpy as np"
   ]
  },
  {
   "cell_type": "code",
   "execution_count": 3,
   "id": "8896aab8-37c6-427a-a16f-344d9df03c89",
   "metadata": {},
   "outputs": [],
   "source": [
    "df_price = pd.read_csv(\"preise2023.csv\")\n",
    "df_load = pd.read_csv(\"load2023.csv\")\n",
    "hours = pd.Series(range(8760))    #csv eingelesen und hours erstellt\n",
    "\n",
    "df_price.rename(columns={'AT': 'Price'}, inplace=True)\n",
    "df_load.rename(columns={'load': 'Load'}, inplace=True)  #csv Spaltennamen renamed\n",
    "df_combined = pd.concat([hours, df_price['Price'], df_load['Load']], axis=1) #daten in ein dataframegepackt \n",
    "df_combined.rename(columns={df_combined.columns[0]: 'hours'}, inplace=True) #hours spalte in hours umbenannt\n",
    "df_combined = df_combined[df_combined['Price'] > 0]     #Preise unter 0 weggecuttet\n"
   ]
  },
  {
   "cell_type": "code",
   "execution_count": 4,
   "id": "657461ed-8f03-46c9-b285-58f9267b4bdb",
   "metadata": {},
   "outputs": [],
   "source": [
    "\n",
    "df_combined['Load_change'] = df_combined['Load'].pct_change()  # Prozentuale Änderung in der Last\n",
    "df_combined['Price_change'] = df_combined['Price'].pct_change()  # Prozentuale Änderung im Preis\n",
    "df_combined['Elasticity'] = df_combined['Load_change'] / df_combined['Price_change']  #Elastizität\n"
   ]
  },
  {
   "cell_type": "code",
   "execution_count": 5,
   "id": "ad696efc-1617-425e-9ed9-f9d5eb04e567",
   "metadata": {},
   "outputs": [],
   "source": [
    "\n",
    "df_combined['Elasticity'].replace([np.inf, -np.inf], np.nan, inplace=True) #ersetzt unendliche Wert mit nan\n",
    "df_combined['Elasticity'].fillna(0, inplace=True)  # Ersetzt NaN mit 0\n",
    "df_combined['Load_change'].fillna(0, inplace=True) \n",
    "df_combined['Price_change'].fillna(0, inplace=True)  \n"
   ]
  },
  {
   "cell_type": "code",
   "execution_count": 6,
   "id": "eed58c3f-b858-471f-8423-b54d9eb30ddd",
   "metadata": {},
   "outputs": [
    {
     "name": "stdout",
     "output_type": "stream",
     "text": [
      "      hours  Price    Load  Load_change  Price_change  Elasticity\n",
      "0         0  1.206  5280.8     0.000000      0.000000    0.000000\n",
      "9         9  0.029  5884.5     0.114320     -0.975954   -0.117137\n",
      "10       10  0.073  5891.2     0.001139      1.517241    0.000750\n",
      "11       11  0.114  5767.5    -0.020997      0.561644   -0.037386\n",
      "12       12  0.134  5657.8    -0.019020      0.175439   -0.108416\n",
      "...     ...    ...     ...          ...           ...         ...\n",
      "8755   8755  1.957  6398.9    -0.054229     -0.253623    0.213816\n",
      "8756   8756  1.720  6057.6    -0.053337     -0.121104    0.440427\n",
      "8757   8757  0.820  6091.0     0.005514     -0.523256   -0.010537\n",
      "8758   8758  1.068  5803.8    -0.047152      0.302439   -0.155904\n",
      "8759   8759  0.935  5648.8    -0.026707     -0.124532    0.214456\n",
      "\n",
      "[8623 rows x 6 columns]\n"
     ]
    }
   ],
   "source": [
    "print(df_combined)"
   ]
  },
  {
   "cell_type": "code",
   "execution_count": 16,
   "id": "1c4c8913-9219-45c5-a610-b8d3ec0f5401",
   "metadata": {},
   "outputs": [
    {
     "name": "stdout",
     "output_type": "stream",
     "text": [
      "0.550408308256553\n"
     ]
    }
   ],
   "source": [
    "avg_elasticity = df_combined['Elasticity'].mean()\n",
    "print(avg_elasticity)"
   ]
  },
  {
   "cell_type": "code",
   "execution_count": 26,
   "id": "ab2e19ef-66fb-4938-b5e1-0eb84483b491",
   "metadata": {},
   "outputs": [
    {
     "name": "stdout",
     "output_type": "stream",
     "text": [
      "                            OLS Regression Results                            \n",
      "==============================================================================\n",
      "Dep. Variable:            Load_change   R-squared:                       0.001\n",
      "Model:                            OLS   Adj. R-squared:                  0.000\n",
      "Method:                 Least Squares   F-statistic:                     4.473\n",
      "Date:                Wed, 02 Apr 2025   Prob (F-statistic):             0.0345\n",
      "Time:                        21:51:38   Log-Likelihood:                 12955.\n",
      "No. Observations:                8623   AIC:                        -2.591e+04\n",
      "Df Residuals:                    8621   BIC:                        -2.589e+04\n",
      "Df Model:                           1                                         \n",
      "Covariance Type:            nonrobust                                         \n",
      "================================================================================\n",
      "                   coef    std err          t      P>|t|      [0.025      0.975]\n",
      "--------------------------------------------------------------------------------\n",
      "const            0.0014      0.001      2.343      0.019       0.000       0.002\n",
      "Price_change  5.415e-05   2.56e-05      2.115      0.034    3.96e-06       0.000\n",
      "==============================================================================\n",
      "Omnibus:                     2170.009   Durbin-Watson:                   0.534\n",
      "Prob(Omnibus):                  0.000   Jarque-Bera (JB):             6015.380\n",
      "Skew:                           1.331   Prob(JB):                         0.00\n",
      "Kurtosis:                       6.107   Cond. No.                         22.7\n",
      "==============================================================================\n",
      "\n",
      "Notes:\n",
      "[1] Standard Errors assume that the covariance matrix of the errors is correctly specified.\n"
     ]
    }
   ],
   "source": [
    "# Preisänderung und Laständerung extrahieren (die entsprechenden Spalten)\n",
    "x = df_combined['Price_change']  # Unabhängige Variable: Preisänderung\n",
    "y = df_combined['Load_change']   # Abhängige Variable: Laständerung\n",
    "\n",
    "# Füge einen konstanten Term (Intercept) hinzu\n",
    "x = sm.add_constant(x)\n",
    "\n",
    "# Erstelle das Modell und passe es an die Daten an\n",
    "model = sm.OLS(y, x).fit()\n",
    "\n",
    "# Zeige die Zusammenfassung des Modells, um p-Werte zu erhalten\n",
    "print(model.summary())"
   ]
  },
  {
   "cell_type": "code",
   "execution_count": null,
   "id": "8b540caf-f366-40c3-9c73-7f68c896c8d2",
   "metadata": {},
   "outputs": [],
   "source": []
  },
  {
   "cell_type": "code",
   "execution_count": null,
   "id": "68e6f3af-2f1b-492f-ae81-ac9ae5377d38",
   "metadata": {},
   "outputs": [],
   "source": []
  },
  {
   "cell_type": "code",
   "execution_count": null,
   "id": "9ee94d5d-8554-4662-88bd-b2622902f3fc",
   "metadata": {},
   "outputs": [],
   "source": []
  },
  {
   "cell_type": "code",
   "execution_count": null,
   "id": "c6c21162-9b1d-46cd-91a6-30a7716711fc",
   "metadata": {},
   "outputs": [],
   "source": []
  }
 ],
 "metadata": {
  "kernelspec": {
   "display_name": "Python 3",
   "language": "python",
   "name": "python3"
  },
  "language_info": {
   "codemirror_mode": {
    "name": "ipython",
    "version": 3
   },
   "file_extension": ".py",
   "mimetype": "text/x-python",
   "name": "python",
   "nbconvert_exporter": "python",
   "pygments_lexer": "ipython3",
   "version": "3.8.8"
  }
 },
 "nbformat": 4,
 "nbformat_minor": 5
}
