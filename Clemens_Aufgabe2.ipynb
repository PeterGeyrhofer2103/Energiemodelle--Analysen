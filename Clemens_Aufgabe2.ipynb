{
 "cells": [
  {
   "cell_type": "code",
   "execution_count": 1,
   "id": "1a7660b1-124a-4e5d-805c-7d249f9b5df8",
   "metadata": {},
   "outputs": [],
   "source": [
    "import pandas as pd\n",
    "import matplotlib.pyplot as plt\n",
    "import statsmodels.api as sm\n",
    "import numpy as np"
   ]
  },
  {
   "cell_type": "code",
   "execution_count": 2,
   "id": "24aa5e26-3c5e-4d27-858b-3faa2f1b484c",
   "metadata": {},
   "outputs": [],
   "source": [
    "#ich habe als unabhängige Variable folgende\n",
    "# - Temperatur\n",
    "# - Preis\n",
    "# - Uhrzeit - mit Sin und Cos ausgedrückt um das zyklische Verhalten zu bekommen. \n",
    "#   Ich habe weiters auch noch sin(2Pi*x/12) und mit cos hinzugefügt um Vor- und Nachmittagsspitzen darzustelle. Ich bin mir ned sicher ob dies nötig/richtig ist\n",
    "# - Lag: ich habe eine Abhängigkeit von der vorherigen Last hinzugefügt, ich weiß wieder nicht ob das gewollt ist, es verbessert den R² aber deutlich. \n",
    "\n",
    "df_price = pd.read_csv(\"preise2023.csv\")\n",
    "df_load = pd.read_csv(\"load2023.csv\")\n",
    "hours = pd.Series(range(8760))    #csv eingelesen und hours erstellt\n",
    "df_temp = pd.read_csv(\"MessstationenStundendaten.csv\")\n",
    "timeseries = list(range(24))*365\n",
    "clock = pd.Series(timeseries)\n",
    "df_sinclock = np.sin(2 * np.pi * clock / 24)\n",
    "df_cosclock = np.cos(2 * np.pi * clock / 24)\n",
    "df_sinclock_half = np.sin(2 * np.pi * clock / 12)\n",
    "df_cosclock_half = np.cos(2 * np.pi * clock / 12)\n",
    "\n",
    "df_temp.rename(columns={'tl': 'Temp'}, inplace=True)\n",
    "df_price.rename(columns={'AT': 'Price'}, inplace=True)\n",
    "df_load.rename(columns={'load': 'Load'}, inplace=True)  #csv Spaltennamen renamed\n",
    "df_combined = pd.concat([hours, clock, df_price['Price'], df_load['Load'], df_temp['Temp']], axis=1) #daten in ein dataframegepackt \n",
    "df_combined.rename(columns={df_combined.columns[0]: 'hours'}, inplace=True) #hours spalte in hours umbenannt\n",
    "df_combined.rename(columns={df_combined.columns[1]: 'clock'}, inplace=True) #hours spalte in clock umbenannt\n",
    "df_combined['Load_lagged'] = df_combined['Load'].shift(1) #Setzt meinen Wert in Zusammenhang mit dem t-1 Wert\n",
    "#df_combined['Sin_clock'] = df_sinclock                  #Uhrzeit durch Sin ausdrücken ist nicht signifikant\n",
    "df_combined['Cos_clock'] = df_cosclock                  #Uhrzeit durch Cos ausdrücken\n",
    "df_combined['Sin_clock_half'] = df_sinclock_half               #Uhrzeit durch Sin ausdrücken\n",
    "df_combined['Cos_clock_half'] = df_cosclock_half                  #Uhrzeit durch Cos ausdrücken\n",
    "df_combined = df_combined[df_combined['Price'] > 0]     #Preise unter 0 weggecuttet\n",
    "df_combined = df_combined.fillna(df_combined.mean())    #Tauscht Nan-Werte mit Spaltenmittelwert aus (Temp. hatte Nan-Werte)\n"
   ]
  },
  {
   "cell_type": "code",
   "execution_count": 3,
   "id": "e414a726-0707-459f-a4b3-aa0bc417c5d5",
   "metadata": {},
   "outputs": [
    {
     "name": "stdout",
     "output_type": "stream",
     "text": [
      "                            OLS Regression Results                            \n",
      "==============================================================================\n",
      "Dep. Variable:                   Load   R-squared:                       0.959\n",
      "Model:                            OLS   Adj. R-squared:                  0.959\n",
      "Method:                 Least Squares   F-statistic:                 3.325e+04\n",
      "Date:                Thu, 03 Apr 2025   Prob (F-statistic):               0.00\n",
      "Time:                        22:10:17   Log-Likelihood:                -60371.\n",
      "No. Observations:                8623   AIC:                         1.208e+05\n",
      "Df Residuals:                    8616   BIC:                         1.208e+05\n",
      "Df Model:                           6                                         \n",
      "Covariance Type:            nonrobust                                         \n",
      "==================================================================================\n",
      "                     coef    std err          t      P>|t|      [0.025      0.975]\n",
      "----------------------------------------------------------------------------------\n",
      "const            674.4551     25.469     26.482      0.000     624.530     724.380\n",
      "Price             -2.3549      0.936     -2.516      0.012      -4.189      -0.520\n",
      "Temp              -8.3487      0.434    -19.229      0.000      -9.200      -7.498\n",
      "Cos_clock       -144.2989      5.806    -24.853      0.000    -155.680    -132.917\n",
      "Sin_clock_half   179.2027      4.280     41.873      0.000     170.814     187.592\n",
      "Cos_clock_half  -195.0979      4.276    -45.623      0.000    -203.480    -186.715\n",
      "Load_lagged        0.9151      0.004    228.429      0.000       0.907       0.923\n",
      "==============================================================================\n",
      "Omnibus:                     1411.639   Durbin-Watson:                   0.632\n",
      "Prob(Omnibus):                  0.000   Jarque-Bera (JB):             4806.510\n",
      "Skew:                           0.818   Prob(JB):                         0.00\n",
      "Kurtosis:                       6.272   Cond. No.                     6.13e+04\n",
      "==============================================================================\n",
      "\n",
      "Notes:\n",
      "[1] Standard Errors assume that the covariance matrix of the errors is correctly specified.\n",
      "[2] The condition number is large, 6.13e+04. This might indicate that there are\n",
      "strong multicollinearity or other numerical problems.\n"
     ]
    }
   ],
   "source": [
    "X = df_combined[['Price', 'Temp','Cos_clock','Sin_clock_half','Cos_clock_half','Load_lagged']]  # Unabhängige Variablen definieren\n",
    "X = sm.add_constant(X)  # Konstanten-Term hinzufügen (Intercept)\n",
    "\n",
    "y = df_combined['Load']  # Zielvariable\n",
    "\n",
    "model = sm.OLS(y, X).fit()  # OLS-Regression (Ordinary Least Squares)\n",
    "\n",
    "# Ergebnisse ausgeben\n",
    "print(model.summary())"
   ]
  },
  {
   "cell_type": "code",
   "execution_count": null,
   "id": "8481aa42-6d58-4ed0-add9-3195b282a163",
   "metadata": {},
   "outputs": [],
   "source": []
  },
  {
   "cell_type": "code",
   "execution_count": null,
   "id": "d8257640-74e8-4d27-a9da-c0af546c18fe",
   "metadata": {},
   "outputs": [],
   "source": []
  },
  {
   "cell_type": "code",
   "execution_count": null,
   "id": "19c02475-9178-46c3-b7f0-e443cd3fc131",
   "metadata": {},
   "outputs": [],
   "source": []
  },
  {
   "cell_type": "code",
   "execution_count": null,
   "id": "e0e43a6c-8f0b-45af-9496-6f4ce8544639",
   "metadata": {},
   "outputs": [],
   "source": []
  },
  {
   "cell_type": "code",
   "execution_count": 55,
   "id": "f979e58a-7384-4279-8a72-7e4f282cdbdb",
   "metadata": {},
   "outputs": [
    {
     "name": "stdout",
     "output_type": "stream",
     "text": [
      "Signifikante Variablen (p-Wert <= 0.2): ['const', 'Price', 'Temp', 'Cos_clock', 'Sin_clock_half', 'Cos_clock_half', 'Load_lagged']\n"
     ]
    }
   ],
   "source": [
    "\n",
    "# Test ob Variablen Signifikant sind mit ChatJPT - nicht genauer betrachtet\n",
    "\n",
    "# 1. Erstelle univariate Modelle und teste die Signifikanz jeder Variable\n",
    "significant_vars = []\n",
    "\n",
    "# Setze das Signifikanzniveau (alpha) auf 5%\n",
    "alpha = 0.05\n",
    "\n",
    "for column in X.columns:\n",
    "    # Univariates Modell\n",
    "    X_temp = sm.add_constant(X[column])  # Füge einen konstanten Term hinzu\n",
    "    model = sm.OLS(y, X_temp).fit()\n",
    "    \n",
    "    # p-Wert der Variable\n",
    "    p_value = model.pvalues[0]  # p-Wert der einzigen unabhängigen Variable\n",
    "    \n",
    "    # Teste, ob der p-Wert kleiner als 0.2 ist (Signifikanzniveau)\n",
    "    if p_value <= alpha:\n",
    "        significant_vars.append(column)  # Wenn signifikant, behalte die Variable\n",
    "\n",
    "# 2. Zeige die signifikanten Variablen\n",
    "print(f\"Signifikante Variablen (p-Wert <= 0.2): {significant_vars}\")\n"
   ]
  },
  {
   "cell_type": "code",
   "execution_count": null,
   "id": "dbe4badd-b27d-4c8b-ada8-c54402884219",
   "metadata": {},
   "outputs": [],
   "source": []
  }
 ],
 "metadata": {
  "kernelspec": {
   "display_name": "Python 3",
   "language": "python",
   "name": "python3"
  },
  "language_info": {
   "codemirror_mode": {
    "name": "ipython",
    "version": 3
   },
   "file_extension": ".py",
   "mimetype": "text/x-python",
   "name": "python",
   "nbconvert_exporter": "python",
   "pygments_lexer": "ipython3",
   "version": "3.8.8"
  }
 },
 "nbformat": 4,
 "nbformat_minor": 5
}
