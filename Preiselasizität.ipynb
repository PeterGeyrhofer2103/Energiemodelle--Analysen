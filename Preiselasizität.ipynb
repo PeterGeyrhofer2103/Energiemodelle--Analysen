{
 "cells": [
  {
   "cell_type": "code",
   "execution_count": 1,
   "id": "db217688-29e7-4d35-9dbd-710c9ef095aa",
   "metadata": {},
   "outputs": [],
   "source": [
    "import pandas as pd\n",
    "import matplotlib.pyplot as plt\n",
    "import statsmodels.api as sm\n",
    "import numpy as np\n",
    "from scipy.stats import t"
   ]
  },
  {
   "cell_type": "code",
   "execution_count": 2,
   "id": "8896aab8-37c6-427a-a16f-344d9df03c89",
   "metadata": {},
   "outputs": [],
   "source": [
    "df_price = pd.read_csv(\"preise2023.csv\")\n",
    "df_load = pd.read_csv(\"load2023.csv\")\n",
    "hours = pd.Series(range(8760))    #csv eingelesen und hours erstellt\n",
    "\n",
    "df_price.rename(columns={'AT': 'Price'}, inplace=True)\n",
    "df_load.rename(columns={'load': 'Load'}, inplace=True)  #csv Spaltennamen renamed\n",
    "df_combined = pd.concat([hours, df_price['Price'], df_load['Load']], axis=1) #daten in ein dataframegepackt \n",
    "df_combined.rename(columns={df_combined.columns[0]: 'hours'}, inplace=True) #hours spalte in hours umbenannt\n",
    "df_combined = df_combined[df_combined['Price'] > 0]     #Preise unter 0 weggecuttet\n"
   ]
  },
  {
   "cell_type": "code",
   "execution_count": 3,
   "id": "657461ed-8f03-46c9-b285-58f9267b4bdb",
   "metadata": {},
   "outputs": [],
   "source": [
    "\n",
    "df_combined['Load_change'] = df_combined['Load'].pct_change()  # Prozentuale Änderung in der Last\n",
    "df_combined['Price_change'] = df_combined['Price'].pct_change()  # Prozentuale Änderung im Preis\n",
    "df_combined['Elasticity'] = df_combined['Load_change'] / df_combined['Price_change']  #Elastizität\n"
   ]
  },
  {
   "cell_type": "code",
   "execution_count": 4,
   "id": "ad696efc-1617-425e-9ed9-f9d5eb04e567",
   "metadata": {},
   "outputs": [
    {
     "name": "stderr",
     "output_type": "stream",
     "text": [
      "C:\\Users\\peter\\AppData\\Local\\Temp\\ipykernel_24572\\1401087948.py:1: FutureWarning: A value is trying to be set on a copy of a DataFrame or Series through chained assignment using an inplace method.\n",
      "The behavior will change in pandas 3.0. This inplace method will never work because the intermediate object on which we are setting values always behaves as a copy.\n",
      "\n",
      "For example, when doing 'df[col].method(value, inplace=True)', try using 'df.method({col: value}, inplace=True)' or df[col] = df[col].method(value) instead, to perform the operation inplace on the original object.\n",
      "\n",
      "\n",
      "  df_combined['Elasticity'].replace([np.inf, -np.inf], np.nan, inplace=True) #ersetzt unendliche Wert mit nan\n",
      "C:\\Users\\peter\\AppData\\Local\\Temp\\ipykernel_24572\\1401087948.py:2: FutureWarning: A value is trying to be set on a copy of a DataFrame or Series through chained assignment using an inplace method.\n",
      "The behavior will change in pandas 3.0. This inplace method will never work because the intermediate object on which we are setting values always behaves as a copy.\n",
      "\n",
      "For example, when doing 'df[col].method(value, inplace=True)', try using 'df.method({col: value}, inplace=True)' or df[col] = df[col].method(value) instead, to perform the operation inplace on the original object.\n",
      "\n",
      "\n",
      "  df_combined['Elasticity'].fillna(0, inplace=True)  # Ersetzt NaN mit 0\n",
      "C:\\Users\\peter\\AppData\\Local\\Temp\\ipykernel_24572\\1401087948.py:3: FutureWarning: A value is trying to be set on a copy of a DataFrame or Series through chained assignment using an inplace method.\n",
      "The behavior will change in pandas 3.0. This inplace method will never work because the intermediate object on which we are setting values always behaves as a copy.\n",
      "\n",
      "For example, when doing 'df[col].method(value, inplace=True)', try using 'df.method({col: value}, inplace=True)' or df[col] = df[col].method(value) instead, to perform the operation inplace on the original object.\n",
      "\n",
      "\n",
      "  df_combined['Load_change'].fillna(0, inplace=True)\n",
      "C:\\Users\\peter\\AppData\\Local\\Temp\\ipykernel_24572\\1401087948.py:4: FutureWarning: A value is trying to be set on a copy of a DataFrame or Series through chained assignment using an inplace method.\n",
      "The behavior will change in pandas 3.0. This inplace method will never work because the intermediate object on which we are setting values always behaves as a copy.\n",
      "\n",
      "For example, when doing 'df[col].method(value, inplace=True)', try using 'df.method({col: value}, inplace=True)' or df[col] = df[col].method(value) instead, to perform the operation inplace on the original object.\n",
      "\n",
      "\n",
      "  df_combined['Price_change'].fillna(0, inplace=True)\n"
     ]
    }
   ],
   "source": [
    "\n",
    "df_combined['Elasticity'].replace([np.inf, -np.inf], np.nan, inplace=True) #ersetzt unendliche Wert mit nan\n",
    "df_combined['Elasticity'].fillna(0, inplace=True)  # Ersetzt NaN mit 0\n",
    "df_combined['Load_change'].fillna(0, inplace=True) \n",
    "df_combined['Price_change'].fillna(0, inplace=True)  \n"
   ]
  },
  {
   "cell_type": "code",
   "execution_count": 5,
   "id": "eed58c3f-b858-471f-8423-b54d9eb30ddd",
   "metadata": {},
   "outputs": [
    {
     "name": "stdout",
     "output_type": "stream",
     "text": [
      "      hours  Price    Load  Load_change  Price_change  Elasticity\n",
      "0         0  1.206  5280.8     0.000000      0.000000    0.000000\n",
      "9         9  0.029  5884.5     0.114320     -0.975954   -0.117137\n",
      "10       10  0.073  5891.2     0.001139      1.517241    0.000750\n",
      "11       11  0.114  5767.5    -0.020997      0.561644   -0.037386\n",
      "12       12  0.134  5657.8    -0.019020      0.175439   -0.108416\n",
      "...     ...    ...     ...          ...           ...         ...\n",
      "8755   8755  1.957  6398.9    -0.054229     -0.253623    0.213816\n",
      "8756   8756  1.720  6057.6    -0.053337     -0.121104    0.440427\n",
      "8757   8757  0.820  6091.0     0.005514     -0.523256   -0.010537\n",
      "8758   8758  1.068  5803.8    -0.047152      0.302439   -0.155904\n",
      "8759   8759  0.935  5648.8    -0.026707     -0.124532    0.214456\n",
      "\n",
      "[8623 rows x 6 columns]\n"
     ]
    }
   ],
   "source": [
    "print(df_combined)"
   ]
  },
  {
   "cell_type": "markdown",
   "id": "2fdb5d26",
   "metadata": {},
   "source": [
    "#### Nullhypothese: Die Preiselastizität ist nicht statistisch signifikant."
   ]
  },
  {
   "cell_type": "code",
   "execution_count": 6,
   "id": "ab2e19ef-66fb-4938-b5e1-0eb84483b491",
   "metadata": {},
   "outputs": [
    {
     "name": "stdout",
     "output_type": "stream",
     "text": [
      "                            OLS Regression Results                            \n",
      "==============================================================================\n",
      "Dep. Variable:            Load_change   R-squared:                       0.001\n",
      "Model:                            OLS   Adj. R-squared:                  0.000\n",
      "Method:                 Least Squares   F-statistic:                     4.473\n",
      "Date:                Fri, 04 Apr 2025   Prob (F-statistic):             0.0345\n",
      "Time:                        14:26:03   Log-Likelihood:                 12955.\n",
      "No. Observations:                8623   AIC:                        -2.591e+04\n",
      "Df Residuals:                    8621   BIC:                        -2.589e+04\n",
      "Df Model:                           1                                         \n",
      "Covariance Type:            nonrobust                                         \n",
      "================================================================================\n",
      "                   coef    std err          t      P>|t|      [0.025      0.975]\n",
      "--------------------------------------------------------------------------------\n",
      "const            0.0014      0.001      2.343      0.019       0.000       0.002\n",
      "Price_change  5.415e-05   2.56e-05      2.115      0.034    3.96e-06       0.000\n",
      "==============================================================================\n",
      "Omnibus:                     2170.009   Durbin-Watson:                   0.534\n",
      "Prob(Omnibus):                  0.000   Jarque-Bera (JB):             6015.380\n",
      "Skew:                           1.331   Prob(JB):                         0.00\n",
      "Kurtosis:                       6.107   Cond. No.                         22.7\n",
      "==============================================================================\n",
      "\n",
      "Notes:\n",
      "[1] Standard Errors assume that the covariance matrix of the errors is correctly specified.\n"
     ]
    }
   ],
   "source": [
    "# Preisänderung und Laständerung extrahieren (die entsprechenden Spalten)\n",
    "x = df_combined['Price_change']  # Unabhängige Variable: Preisänderung\n",
    "y = df_combined['Load_change']   # Abhängige Variable: Laständerung\n",
    "\n",
    "# Füge einen konstanten Term (Intercept) hinzu\n",
    "x = sm.add_constant(x)\n",
    "\n",
    "# Erstelle das Modell und passe es an die Daten an\n",
    "model = sm.OLS(y, x).fit()\n",
    "\n",
    "# Zeige die Zusammenfassung des Modells, um p-Werte zu erhalten\n",
    "print(model.summary())"
   ]
  },
  {
   "cell_type": "code",
   "execution_count": 7,
   "id": "05fb0acc",
   "metadata": {},
   "outputs": [
    {
     "name": "stdout",
     "output_type": "stream",
     "text": [
      "1.96\n"
     ]
    }
   ],
   "source": [
    "# Berechnung von t_krit\n",
    "alpha = 0.05  # Signifikanzniveau\n",
    "df = 8621  # Freiheitsgrade\n",
    "\n",
    "t_critical = t.ppf(1 - alpha/2, df)  # Zweiseitiger Test\n",
    "print(round(t_critical,2))"
   ]
  },
  {
   "cell_type": "markdown",
   "id": "5fac298b",
   "metadata": {},
   "source": [
    "#### Preiselastizität ist signifikaten, da der t-wert 2.115 beträgt und somit den Grenzwert von 1.96 überschreitet. Weiters ist der p-wert kleiner 0.5, was bedeutet, dass die Nullhypothese verworfen werden kann. Obwohl der R²-Wert sehr gering ist, ist der Effekt statistisch signifikant - die Tageszeit hat also viel größeren Einfluss auf Last und somit Preis."
   ]
  },
  {
   "cell_type": "markdown",
   "id": "d9f08e7a",
   "metadata": {},
   "source": []
  }
 ],
 "metadata": {
  "kernelspec": {
   "display_name": "base",
   "language": "python",
   "name": "python3"
  },
  "language_info": {
   "codemirror_mode": {
    "name": "ipython",
    "version": 3
   },
   "file_extension": ".py",
   "mimetype": "text/x-python",
   "name": "python",
   "nbconvert_exporter": "python",
   "pygments_lexer": "ipython3",
   "version": "3.12.3"
  }
 },
 "nbformat": 4,
 "nbformat_minor": 5
}
